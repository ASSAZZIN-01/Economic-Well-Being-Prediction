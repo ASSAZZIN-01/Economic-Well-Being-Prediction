{
  "nbformat": 4,
  "nbformat_minor": 0,
  "metadata": {
    "colab": {
      "name": "1st Place Solution",
      "provenance": []
    },
    "kernelspec": {
      "name": "python3",
      "display_name": "Python 3"
    },
    "language_info": {
      "name": "python"
    }
  },
  "cells": [
    {
      "cell_type": "markdown",
      "metadata": {
        "id": "Bwh0bcrmYe9Z"
      },
      "source": [
        "# **SETUP**"
      ]
    },
    {
      "cell_type": "code",
      "metadata": {
        "colab": {
          "base_uri": "https://localhost:8080/"
        },
        "id": "K7Ovsb9-YGaS",
        "outputId": "801cbb11-b230-4350-a182-04fc3ce86165"
      },
      "source": [
        "from google.colab import drive\n",
        "drive.mount('/content/drive')"
      ],
      "execution_count": 1,
      "outputs": [
        {
          "output_type": "stream",
          "text": [
            "Mounted at /content/drive\n"
          ],
          "name": "stdout"
        }
      ]
    },
    {
      "cell_type": "code",
      "metadata": {
        "id": "kk5_uX19YHYZ"
      },
      "source": [
        "# Copying in the zip files from Google Drive (alternately just upload them)\n",
        "!cp '/content/drive/MyDrive/Economic_Well_Being_Prediction/data/Train.csv' .\n",
        "!cp '/content/drive/MyDrive/Economic_Well_Being_Prediction/data/Test.csv' .\n",
        "!cp '/content/drive/MyDrive/Economic_Well_Being_Prediction/data/SampleSubmission.csv' ."
      ],
      "execution_count": 2,
      "outputs": []
    },
    {
      "cell_type": "code",
      "metadata": {
        "id": "i_pyxb8fj4J_"
      },
      "source": [
        "import numpy as np\n",
        "import pandas as pd\n",
        "\n",
        "from lightgbm import LGBMRegressor\n",
        "from sklearn.model_selection import KFold,StratifiedKFold ,GroupKFold\n",
        "from sklearn.metrics import mean_squared_error\n",
        "\n",
        "\n",
        "import warnings\n",
        "warnings.filterwarnings('ignore')"
      ],
      "execution_count": 3,
      "outputs": []
    },
    {
      "cell_type": "markdown",
      "metadata": {
        "id": "skvbboPEkIfn"
      },
      "source": [
        "# UTILS"
      ]
    },
    {
      "cell_type": "code",
      "metadata": {
        "id": "PZ74jAvskFBY"
      },
      "source": [
        "def get_processed_data(train_path,test_path) :\n",
        "    \n",
        "    train = pd.read_csv(train_path)\n",
        "    test  = pd.read_csv(test_path)\n",
        "\n",
        "    data = pd.concat([train, test]).reset_index(drop=True)\n",
        "    \n",
        "    col = ['country', 'year', 'urban_or_rural']\n",
        "    \n",
        "    ## Count of unique features\n",
        "    for i in col:\n",
        "        data['count_'+i] = data[i].map(data[i].value_counts())\n",
        "        \n",
        "    ## Combination features\n",
        "    data['all_ghsl'] = data['ghsl_built_1975_to_1990']+data['ghsl_built_pre_1975']+data['ghsl_built_1990_to_2000']+data['ghsl_built_2000_to_2014']\n",
        "    data['all_landcover_fraction'] = data['landcover_crops_fraction']+data['landcover_urban_fraction']\n",
        "    data['all_waters'] = data['landcover_water_permanent_10km_fraction'] + data['landcover_water_seasonal_10km_fraction']\n",
        "    \n",
        "    # get train , test\n",
        "    train = data[data['ID'].isin(train['ID'].values)]\n",
        "    test = data[~data['ID'].isin(train['ID'].values)]\n",
        "    features = [x for x in train.columns if x not in \n",
        "                ['ID','country','urban_or_rural','Target','year']]\n",
        "    return train , test , features"
      ],
      "execution_count": 4,
      "outputs": []
    },
    {
      "cell_type": "code",
      "metadata": {
        "id": "NzAHuvgnqe44"
      },
      "source": [
        "train_path = 'Train.csv' ; test_path = 'Test.csv'\n",
        "train , test , features = get_processed_data(train_path,test_path)"
      ],
      "execution_count": 13,
      "outputs": []
    },
    {
      "cell_type": "code",
      "metadata": {
        "id": "DsUfz7NnqnY_"
      },
      "source": [
        "def get_model(Name='lgbm') :\n",
        "    if Name=='lgbm' :\n",
        "      return LGBMRegressor(**{'objective' :'regression','boosting_type' : 'gbdt','metric': 'rmse' ,\n",
        "                              'learning_rate' : 0.05,'num_iterations': 1500,'max_depth' :4 ,'num_leaves' : 150,\n",
        "                              'max_bins': 85,'min_data_in_leaf':30,'reg_lambda' :75})"
      ],
      "execution_count": 14,
      "outputs": []
    },
    {
      "cell_type": "code",
      "metadata": {
        "colab": {
          "base_uri": "https://localhost:8080/"
        },
        "id": "tXIWscg0qx8O",
        "outputId": "cbe514b9-7ace-4286-a252-b2edacfb0fe0"
      },
      "source": [
        "Model_Name = \"lgbm\"\n",
        "\n",
        "X = train[features]\n",
        "y = train['Target']\n",
        "test_ = test[features]\n",
        "\n",
        "folds = KFold(n_splits=10, shuffle=True, random_state=2021)\n",
        "oofs  = np.zeros((len(X)))\n",
        "test_predictions = np.zeros((len(test)))\n",
        "\n",
        "\n",
        "for fold_, (trn_idx, val_idx) in enumerate(folds.split(X, y)):\n",
        "    \n",
        "    X_trn, y_trn = X.iloc[trn_idx], y.iloc[trn_idx]\n",
        "    X_val, y_val = X.iloc[val_idx], y.iloc[val_idx]\n",
        "    \n",
        "\n",
        "    clf = get_model(Name=Model_Name)\n",
        "    clf.fit(X_trn, y_trn, eval_set = [(X_val, y_val)],\n",
        "            verbose = 0, early_stopping_rounds = 50)\n",
        "    \n",
        "    vp = clf.predict(X_val)\n",
        "    oofs[val_idx] = vp\n",
        "    val_score = mean_squared_error((vp), (y_val),squared=False)\n",
        "    print(4*'-- -- -- --')\n",
        "    print(f'Fold {fold_+1} Val score: {val_score}')\n",
        "    print(4*'-- -- -- --')\n",
        "    \n",
        "    tp = clf.predict(test_)\n",
        "    test_predictions += tp / folds.n_splits\n",
        "\n",
        "print()\n",
        "print(3*'###',10*\"^\",3*'###')\n",
        "print(mean_squared_error(y, oofs,squared=False))"
      ],
      "execution_count": 15,
      "outputs": [
        {
          "output_type": "stream",
          "text": [
            "-- -- -- ---- -- -- ---- -- -- ---- -- -- --\n",
            "Fold 1 Val score: 0.08764414383383785\n",
            "-- -- -- ---- -- -- ---- -- -- ---- -- -- --\n",
            "-- -- -- ---- -- -- ---- -- -- ---- -- -- --\n",
            "Fold 2 Val score: 0.09217050994841279\n",
            "-- -- -- ---- -- -- ---- -- -- ---- -- -- --\n",
            "-- -- -- ---- -- -- ---- -- -- ---- -- -- --\n",
            "Fold 3 Val score: 0.08254822852731723\n",
            "-- -- -- ---- -- -- ---- -- -- ---- -- -- --\n",
            "-- -- -- ---- -- -- ---- -- -- ---- -- -- --\n",
            "Fold 4 Val score: 0.08615323141837544\n",
            "-- -- -- ---- -- -- ---- -- -- ---- -- -- --\n",
            "-- -- -- ---- -- -- ---- -- -- ---- -- -- --\n",
            "Fold 5 Val score: 0.0858264977182579\n",
            "-- -- -- ---- -- -- ---- -- -- ---- -- -- --\n",
            "-- -- -- ---- -- -- ---- -- -- ---- -- -- --\n",
            "Fold 6 Val score: 0.08530502145536217\n",
            "-- -- -- ---- -- -- ---- -- -- ---- -- -- --\n",
            "-- -- -- ---- -- -- ---- -- -- ---- -- -- --\n",
            "Fold 7 Val score: 0.0874993037335767\n",
            "-- -- -- ---- -- -- ---- -- -- ---- -- -- --\n",
            "-- -- -- ---- -- -- ---- -- -- ---- -- -- --\n",
            "Fold 8 Val score: 0.08496192364458065\n",
            "-- -- -- ---- -- -- ---- -- -- ---- -- -- --\n",
            "-- -- -- ---- -- -- ---- -- -- ---- -- -- --\n",
            "Fold 9 Val score: 0.08513101611852038\n",
            "-- -- -- ---- -- -- ---- -- -- ---- -- -- --\n",
            "-- -- -- ---- -- -- ---- -- -- ---- -- -- --\n",
            "Fold 10 Val score: 0.08619747468137649\n",
            "-- -- -- ---- -- -- ---- -- -- ---- -- -- --\n",
            "\n",
            "######### ^^^^^^^^^^ #########\n",
            "0.08637640849651126\n"
          ],
          "name": "stdout"
        }
      ]
    },
    {
      "cell_type": "code",
      "metadata": {
        "id": "1ApxmTM-q_0P"
      },
      "source": [
        "submission = pd.DataFrame()\n",
        "submission['ID'] = test['ID']\n",
        "submission['Target'] = np.clip(test_predictions, 0.141000, 0.808657)"
      ],
      "execution_count": 21,
      "outputs": []
    },
    {
      "cell_type": "code",
      "metadata": {
        "id": "ITb62b2ZrRbX"
      },
      "source": [
        "dir_path = 'LearningSolutionV3'\n",
        "submission.to_csv(f'{dir_path}.csv',index=False)"
      ],
      "execution_count": 22,
      "outputs": []
    }
  ]
}